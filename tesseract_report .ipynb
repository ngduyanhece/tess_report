{
 "cells": [
  {
   "cell_type": "code",
   "execution_count": 1,
   "metadata": {
    "collapsed": true
   },
   "outputs": [],
   "source": [
    "import pandas as pd\n",
    "import os"
   ]
  },
  {
   "cell_type": "code",
   "execution_count": 2,
   "metadata": {
    "collapsed": true
   },
   "outputs": [],
   "source": [
    "TEMP_LINE_FOLDER = './line'\n",
    "BASE_IMAGE = './images'\n",
    "FONTS_LIST = [\"Yu Gothic UI\"]"
   ]
  },
  {
   "cell_type": "code",
   "execution_count": 3,
   "metadata": {
    "collapsed": true
   },
   "outputs": [],
   "source": [
    "#read text file and create a tmp folder with multiple file by each line \n",
    "def split_by_line(text):\n",
    "    if os.path.exists(TEMP_LINE_FOLDER):\n",
    "        print(\"line folder already exits\") \n",
    "    else:\n",
    "        os.mkdir(TEMP_LINE_FOLDER)\n",
    "    line_buffer = []\n",
    "    #read over the text file and split it line by line \n",
    "    with open(text) as f:\n",
    "        for line in f:\n",
    "            line_buffer.append(line)\n",
    "    num_line = len(line_buffer)\n",
    "    for i in range(num_line):\n",
    "        file_name = str(i) + \".txt\"\n",
    "        to_file = os.path.join(TEMP_LINE_FOLDER,file_name)\n",
    "        with open(to_file,'w') as f:\n",
    "            f.write(line_buffer[i])\n",
    "            f.close()\n",
    "    print(\"finish splitting file to lines\")"
   ]
  },
  {
   "cell_type": "code",
   "execution_count": 4,
   "metadata": {},
   "outputs": [
    {
     "name": "stdout",
     "output_type": "stream",
     "text": [
      "line folder already exits\n",
      "finish splitting file to lines\n"
     ]
    }
   ],
   "source": [
    "split_by_line('./eval_text.txt')"
   ]
  },
  {
   "cell_type": "code",
   "execution_count": 5,
   "metadata": {
    "collapsed": true
   },
   "outputs": [],
   "source": [
    "if not os.path.exists(BASE_IMAGE):\n",
    "    os.mkdir(BASE_IMAGE)"
   ]
  },
  {
   "cell_type": "code",
   "execution_count": 6,
   "metadata": {
    "collapsed": true
   },
   "outputs": [],
   "source": [
    "#create sub_directories for each font and create images of each line\n",
    "def generate_images_ocr(font):\n",
    "    #get all the line texts\n",
    "    lines = os.listdir(TEMP_LINE_FOLDER)\n",
    "    font_path = os.path.join(BASE_IMAGE,font.replace(\" \", \"_\"))\n",
    "    if not os.path.exists(font_path):\n",
    "        os.mkdir(font_path)\n",
    "    #generate image respecting to fonts\n",
    "    for line in lines:\n",
    "        img_name = line.split(\".\")[0]\n",
    "        line_path = os.path.join(TEMP_LINE_FOLDER,line)\n",
    "        args = \"--text \" + str(line_path) + \" --xsize 300 --ysize 300 \" + \"--font \" + \"\\\"\" + str(font) + \"\\\"\" \\\n",
    "            + \" --fonts_dir /Library/Fonts/ \" +  \"--outputbase \" + os.path.join(font_path,str(img_name))  \n",
    "    #             command = \"text2image\" --text jpn.txt --xsize 300 --ysize 300  --font \"Meiryo\" --fonts_dir /Library/Fonts/ --outputbase \"jpn\"\n",
    "        gen_image_command = \"text2image \" + args\n",
    "#         print(gen_image_command)\n",
    "        os.system(gen_image_command)\n",
    "        ocr_command = \"tesseract \" + str(os.path.join(font_path,str(img_name))) + \".tif \" + str(os.path.join(font_path,str(img_name))) + \" --oem 1 --psm 6 -l jpn\"\n",
    "#         print(ocr_command)\n",
    "        os.system(ocr_command)"
   ]
  },
  {
   "cell_type": "code",
   "execution_count": 7,
   "metadata": {},
   "outputs": [
    {
     "name": "stdout",
     "output_type": "stream",
     "text": [
      "OCR for font: Yu Gothic UI\n"
     ]
    }
   ],
   "source": [
    "for font in FONTS_LIST:\n",
    "    print(\"OCR for font: {}\".format(font))\n",
    "    generate_images_ocr(font)"
   ]
  },
  {
   "cell_type": "code",
   "execution_count": null,
   "metadata": {},
   "outputs": [],
   "source": []
  },
  {
   "cell_type": "code",
   "execution_count": null,
   "metadata": {},
   "outputs": [],
   "source": []
  },
  {
   "cell_type": "code",
   "execution_count": 8,
   "metadata": {
    "collapsed": true
   },
   "outputs": [],
   "source": [
    "#loop over the images folder run ocr and create the report \n",
    "def generate_report(font):\n",
    "    font_images_path = os.path.join(BASE_IMAGE,font)\n",
    "    \n",
    "    "
   ]
  }
 ],
 "metadata": {
  "kernelspec": {
   "display_name": "Python 3",
   "language": "python",
   "name": "python3"
  },
  "language_info": {
   "codemirror_mode": {
    "name": "ipython",
    "version": 3
   },
   "file_extension": ".py",
   "mimetype": "text/x-python",
   "name": "python",
   "nbconvert_exporter": "python",
   "pygments_lexer": "ipython3",
   "version": "3.5.4"
  }
 },
 "nbformat": 4,
 "nbformat_minor": 2
}
